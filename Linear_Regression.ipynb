{
 "cells": [
  {
   "cell_type": "code",
   "execution_count": 2,
   "id": "788026a5-de2f-4985-8cc5-c7d52926ded7",
   "metadata": {},
   "outputs": [],
   "source": [
    "import pandas as pd\n",
    "import numpy as np\n",
    "import matplotlib.pyplot as plt\n",
    "import seaborn as sns\n",
    "import os\n",
    "%matplotlib inline"
   ]
  },
  {
   "cell_type": "markdown",
   "id": "1aaf97f2-2c5b-454e-9a25-a9dbcf7726ca",
   "metadata": {},
   "source": [
    "Problem Statement: The Advertising dataset captures sales revenue generated with respect to advertisement spends \n",
    "across multiple channels like radio, tv, and newspaper."
   ]
  },
  {
   "cell_type": "markdown",
   "id": "030de454-b63e-4332-816b-5ff2defd2803",
   "metadata": {},
   "source": [
    "Build a linear regression model to:\n",
    "    1. Interpret the coefficients of the model\n",
    "    2. Make predictions\n",
    "    3. Find and analyze model residuals\n",
    "    4. Evaluate model efficiency using RMSE and R-Square values"
   ]
  },
  {
   "cell_type": "code",
   "execution_count": 22,
   "id": "eecf0f22-6e6e-4f6d-a442-f75730dd1e72",
   "metadata": {},
   "outputs": [
    {
     "data": {
      "text/plain": [
       "(200, 4)"
      ]
     },
     "execution_count": 22,
     "metadata": {},
     "output_type": "execute_result"
    }
   ],
   "source": [
    "# Import the data\n",
    "\n",
    "Advertise_df = pd.read_csv('Advertising.csv', index_col=0)\n",
    "Advertise_df.head()\n",
    "Advertise_df.columns = ['TV', 'Radio', 'Newspaper', 'Sales']\n",
    "Advertise_df.shape"
   ]
  },
  {
   "cell_type": "code",
   "execution_count": 25,
   "id": "843a4988-42fc-42c1-8eae-87f3b7cf243f",
   "metadata": {},
   "outputs": [
    {
     "data": {
      "text/html": [
       "<div>\n",
       "<style scoped>\n",
       "    .dataframe tbody tr th:only-of-type {\n",
       "        vertical-align: middle;\n",
       "    }\n",
       "\n",
       "    .dataframe tbody tr th {\n",
       "        vertical-align: top;\n",
       "    }\n",
       "\n",
       "    .dataframe thead th {\n",
       "        text-align: right;\n",
       "    }\n",
       "</style>\n",
       "<table border=\"1\" class=\"dataframe\">\n",
       "  <thead>\n",
       "    <tr style=\"text-align: right;\">\n",
       "      <th></th>\n",
       "      <th>TV</th>\n",
       "      <th>Radio</th>\n",
       "      <th>Newspaper</th>\n",
       "      <th>Sales</th>\n",
       "    </tr>\n",
       "  </thead>\n",
       "  <tbody>\n",
       "    <tr>\n",
       "      <th>1</th>\n",
       "      <td>230.1</td>\n",
       "      <td>37.8</td>\n",
       "      <td>69.2</td>\n",
       "      <td>22.1</td>\n",
       "    </tr>\n",
       "    <tr>\n",
       "      <th>2</th>\n",
       "      <td>44.5</td>\n",
       "      <td>39.3</td>\n",
       "      <td>45.1</td>\n",
       "      <td>10.4</td>\n",
       "    </tr>\n",
       "    <tr>\n",
       "      <th>3</th>\n",
       "      <td>17.2</td>\n",
       "      <td>45.9</td>\n",
       "      <td>69.3</td>\n",
       "      <td>9.3</td>\n",
       "    </tr>\n",
       "    <tr>\n",
       "      <th>4</th>\n",
       "      <td>151.5</td>\n",
       "      <td>41.3</td>\n",
       "      <td>58.5</td>\n",
       "      <td>18.5</td>\n",
       "    </tr>\n",
       "    <tr>\n",
       "      <th>5</th>\n",
       "      <td>180.8</td>\n",
       "      <td>10.8</td>\n",
       "      <td>58.4</td>\n",
       "      <td>12.9</td>\n",
       "    </tr>\n",
       "  </tbody>\n",
       "</table>\n",
       "</div>"
      ],
      "text/plain": [
       "      TV  Radio  Newspaper  Sales\n",
       "1  230.1   37.8       69.2   22.1\n",
       "2   44.5   39.3       45.1   10.4\n",
       "3   17.2   45.9       69.3    9.3\n",
       "4  151.5   41.3       58.5   18.5\n",
       "5  180.8   10.8       58.4   12.9"
      ]
     },
     "execution_count": 25,
     "metadata": {},
     "output_type": "execute_result"
    }
   ],
   "source": [
    "Advertise_df.head()"
   ]
  },
  {
   "cell_type": "markdown",
   "id": "7fba49d3-5ceb-4d44-8af6-54fe226a5fc0",
   "metadata": {},
   "source": [
    "Let's have a look at the relationship betwee features and target variable Sales using scatter plots"
   ]
  },
  {
   "cell_type": "code",
   "execution_count": 24,
   "id": "e27f73ba-e7df-4034-a991-d7872fe5d047",
   "metadata": {},
   "outputs": [
    {
     "data": {
      "text/plain": [
       "<AxesSubplot:xlabel='Newspaper', ylabel='Sales'>"
      ]
     },
     "execution_count": 24,
     "metadata": {},
     "output_type": "execute_result"
    },
    {
     "data": {
      "image/png": "[encoded data removed]",
      "text/plain": [
       "<Figure size 1152x576 with 3 Axes>"
      ]
     },
     "metadata": {
      "needs_background": "light"
     },
     "output_type": "display_data"
    }
   ],
   "source": [
    "fig, axes = plt.subplots(1,3, sharex = True,figsize = (16,8))\n",
    "\n",
    "Advertise_df.plot(kind = 'scatter', x = 'TV', y = 'Sales', ax = axes[0])\n",
    "Advertise_df.plot(kind = 'scatter', x = 'Radio', y = 'Sales', ax = axes[1])\n",
    "Advertise_df.plot(kind = 'scatter', x = 'Newspaper', y = 'Sales', ax = axes[2])"
   ]
  },
  {
   "cell_type": "code",
   "execution_count": 43,
   "id": "0795a98e-fbd1-4575-b659-c41ce12c779c",
   "metadata": {},
   "outputs": [],
   "source": [
    "# Independent and dependent variable\n",
    "# Using TV as a Feature ( dependent variable) and Sales is the dependent Variable\n",
    "\n",
    "X = Advertise_df[['TV']]\n",
    "Y = Advertise_df.Sales"
   ]
  },
  {
   "cell_type": "code",
   "execution_count": 44,
   "id": "62e8d548-86e1-4215-877f-520532fda9e0",
   "metadata": {},
   "outputs": [
    {
     "data": {
      "text/plain": [
       "LinearRegression()"
      ]
     },
     "execution_count": 44,
     "metadata": {},
     "output_type": "execute_result"
    }
   ],
   "source": [
    "# Importing linear regression model from sklearn\n",
    "\n",
    "from sklearn.linear_model import LinearRegression\n",
    "\n",
    "# Initializing the model\n",
    "\n",
    "LR = LinearRegression()\n",
    "\n",
    "# Fitting the model \n",
    "\n",
    "LR.fit(X,Y)"
   ]
  },
  {
   "cell_type": "code",
   "execution_count": 46,
   "id": "7c31ee35-b90c-424d-9391-64daf34437b8",
   "metadata": {},
   "outputs": [
    {
     "name": "stdout",
     "output_type": "stream",
     "text": [
      "7.032593549127695\n",
      "[0.04753664]\n"
     ]
    }
   ],
   "source": [
    "# Print Intercept and Coefficient of the linear equation\n",
    "\n",
    "b = LR.intercept_\n",
    "print(b)\n",
    "\n",
    "m = LR.coef_\n",
    "print(m)"
   ]
  },
  {
   "cell_type": "code",
   "execution_count": 47,
   "id": "ce2c7813-b8ee-45e8-9933-708c41386914",
   "metadata": {},
   "outputs": [
    {
     "data": {
      "text/plain": [
       "9.409425549127695"
      ]
     },
     "execution_count": 47,
     "metadata": {},
     "output_type": "execute_result"
    }
   ],
   "source": [
    "# Use above values to calculate new value for sales with the feature value of 50\n",
    "\n",
    "# y = m * X + b\n",
    "\n",
    "0.04753664 * 50 + 7.032593549127695"
   ]
  },
  {
   "cell_type": "code",
   "execution_count": 49,
   "id": "c3fbb63a-bc68-4f9c-8919-224881bb8bd9",
   "metadata": {},
   "outputs": [
    {
     "data": {
      "text/html": [
       "<div>\n",
       "<style scoped>\n",
       "    .dataframe tbody tr th:only-of-type {\n",
       "        vertical-align: middle;\n",
       "    }\n",
       "\n",
       "    .dataframe tbody tr th {\n",
       "        vertical-align: top;\n",
       "    }\n",
       "\n",
       "    .dataframe thead th {\n",
       "        text-align: right;\n",
       "    }\n",
       "</style>\n",
       "<table border=\"1\" class=\"dataframe\">\n",
       "  <thead>\n",
       "    <tr style=\"text-align: right;\">\n",
       "      <th></th>\n",
       "      <th>TV</th>\n",
       "    </tr>\n",
       "  </thead>\n",
       "  <tbody>\n",
       "    <tr>\n",
       "      <th>0</th>\n",
       "      <td>50</td>\n",
       "    </tr>\n",
       "  </tbody>\n",
       "</table>\n",
       "</div>"
      ],
      "text/plain": [
       "   TV\n",
       "0  50"
      ]
     },
     "execution_count": 49,
     "metadata": {},
     "output_type": "execute_result"
    }
   ],
   "source": [
    "# Let's predict new X value\n",
    "\n",
    "X_new = pd.DataFrame({'TV' : [50]})\n",
    "X_new"
   ]
  },
  {
   "cell_type": "code",
   "execution_count": 51,
   "id": "d1948d1f-18ac-451a-ac41-7cfb03e5d814",
   "metadata": {},
   "outputs": [
    {
     "data": {
      "text/plain": [
       "array([9.40942557])"
      ]
     },
     "execution_count": 51,
     "metadata": {},
     "output_type": "execute_result"
    }
   ],
   "source": [
    "# Using above equation, we now predict the sales\n",
    "\n",
    "LR.predict(X_new)"
   ]
  },
  {
   "cell_type": "code",
   "execution_count": 52,
   "id": "b981205d-ea35-4613-8cd8-16317975cdc9",
   "metadata": {},
   "outputs": [
    {
     "data": {
      "text/html": [
       "<div>\n",
       "<style scoped>\n",
       "    .dataframe tbody tr th:only-of-type {\n",
       "        vertical-align: middle;\n",
       "    }\n",
       "\n",
       "    .dataframe tbody tr th {\n",
       "        vertical-align: top;\n",
       "    }\n",
       "\n",
       "    .dataframe thead th {\n",
       "        text-align: right;\n",
       "    }\n",
       "</style>\n",
       "<table border=\"1\" class=\"dataframe\">\n",
       "  <thead>\n",
       "    <tr style=\"text-align: right;\">\n",
       "      <th></th>\n",
       "      <th>TV</th>\n",
       "    </tr>\n",
       "  </thead>\n",
       "  <tbody>\n",
       "    <tr>\n",
       "      <th>0</th>\n",
       "      <td>0.7</td>\n",
       "    </tr>\n",
       "    <tr>\n",
       "      <th>1</th>\n",
       "      <td>296.4</td>\n",
       "    </tr>\n",
       "  </tbody>\n",
       "</table>\n",
       "</div>"
      ],
      "text/plain": [
       "      TV\n",
       "0    0.7\n",
       "1  296.4"
      ]
     },
     "execution_count": 52,
     "metadata": {},
     "output_type": "execute_result"
    }
   ],
   "source": [
    "# Let's make predictions for smallest and largest observations of X use the predicted value to plot least squares line\n",
    "\n",
    "X_new = pd.DataFrame({'TV' : [Advertise_df.TV.min(), Advertise_df.TV.max()]})\n",
    "X_new"
   ]
  },
  {
   "cell_type": "code",
   "execution_count": 54,
   "id": "31e69c2e-786f-42e2-b66b-00b5568da71e",
   "metadata": {},
   "outputs": [],
   "source": [
    "Predictions = LR.predict(X_new)"
   ]
  },
  {
   "cell_type": "code",
   "execution_count": 55,
   "id": "4c52d37a-1f00-4e9e-9172-9a06a5b4dde1",
   "metadata": {},
   "outputs": [
    {
     "data": {
      "text/plain": [
       "array([ 7.0658692 , 21.12245377])"
      ]
     },
     "execution_count": 55,
     "metadata": {},
     "output_type": "execute_result"
    }
   ],
   "source": [
    "Predictions"
   ]
  },
  {
   "cell_type": "code",
   "execution_count": 58,
   "id": "3fdf3039-bcc6-4fda-a105-51468a735494",
   "metadata": {},
   "outputs": [
    {
     "data": {
      "text/plain": [
       "[<matplotlib.lines.Line2D at 0x1d62df49430>]"
      ]
     },
     "execution_count": 58,
     "metadata": {},
     "output_type": "execute_result"
    },
    {
     "data": {
      "image/png": "[encoded data removed]",
      "text/plain": [
       "<Figure size 432x288 with 1 Axes>"
      ]
     },
     "metadata": {
      "needs_background": "light"
     },
     "output_type": "display_data"
    }
   ],
   "source": [
    "# Initializing scatter plot for TV and sales\n",
    "# plotting the least squares line\n",
    "\n",
    "Advertise_df.plot(kind = 'scatter', x = 'TV', y = 'Sales')\n",
    "plt.plot(X_new, Predictions, 'r')"
   ]
  },
  {
   "cell_type": "code",
   "execution_count": 72,
   "id": "603e8609-65e0-437d-b737-32f7f7c3db0b",
   "metadata": {},
   "outputs": [
    {
     "data": {
      "text/html": [
       "<div>\n",
       "<style scoped>\n",
       "    .dataframe tbody tr th:only-of-type {\n",
       "        vertical-align: middle;\n",
       "    }\n",
       "\n",
       "    .dataframe tbody tr th {\n",
       "        vertical-align: top;\n",
       "    }\n",
       "\n",
       "    .dataframe thead th {\n",
       "        text-align: right;\n",
       "    }\n",
       "</style>\n",
       "<table border=\"1\" class=\"dataframe\">\n",
       "  <thead>\n",
       "    <tr style=\"text-align: right;\">\n",
       "      <th></th>\n",
       "      <th>0</th>\n",
       "      <th>1</th>\n",
       "    </tr>\n",
       "  </thead>\n",
       "  <tbody>\n",
       "    <tr>\n",
       "      <th>Intercept</th>\n",
       "      <td>6.129719</td>\n",
       "      <td>7.935468</td>\n",
       "    </tr>\n",
       "    <tr>\n",
       "      <th>TV</th>\n",
       "      <td>0.042231</td>\n",
       "      <td>0.052843</td>\n",
       "    </tr>\n",
       "  </tbody>\n",
       "</table>\n",
       "</div>"
      ],
      "text/plain": [
       "                  0         1\n",
       "Intercept  6.129719  7.935468\n",
       "TV         0.042231  0.052843"
      ]
     },
     "execution_count": 72,
     "metadata": {},
     "output_type": "execute_result"
    }
   ],
   "source": [
    "# Importing statsmodels\n",
    "\n",
    "import statsmodels.formula.api as smf\n",
    "\n",
    "# Apply ols on TV sales\n",
    "\n",
    "LR = smf.ols(formula = 'Sales ~ TV', data = Advertise_df).fit()\n",
    "LR.conf_int()"
   ]
  },
  {
   "cell_type": "code",
   "execution_count": 73,
   "id": "4887dcbb-e9d2-4fb7-930f-8523a086afd1",
   "metadata": {},
   "outputs": [
    {
     "data": {
      "text/plain": [
       "Intercept    1.406300e-35\n",
       "TV           1.467390e-42\n",
       "dtype: float64"
      ]
     },
     "execution_count": 73,
     "metadata": {},
     "output_type": "execute_result"
    }
   ],
   "source": [
    "# Printing p values\n",
    "LR.pvalues"
   ]
  },
  {
   "cell_type": "markdown",
   "id": "1b63baf0-30be-44b7-96d7-aba160d6994b",
   "metadata": {},
   "source": [
    "The output shows the pvalues for the model coefficients. The pvalue represnts the possibility that the coefficient is actually 0. In this case, the pvalue for TV is far less than 0.05. Hence, there is a relationship between TV adds and sales"
   ]
  },
  {
   "cell_type": "code",
   "execution_count": 74,
   "id": "8ec83f5a-115d-4032-ac9a-73937d5a83a5",
   "metadata": {},
   "outputs": [
    {
     "data": {
      "text/plain": [
       "0.611875050850071"
      ]
     },
     "execution_count": 74,
     "metadata": {},
     "output_type": "execute_result"
    }
   ],
   "source": [
    "# How well the model fits the data, we can check this using R square Value\n",
    "\n",
    "from sklearn.metrics import r2_score, mean_squared_error\n",
    "\n",
    "LR.rsquared"
   ]
  },
  {
   "cell_type": "markdown",
   "id": "fcb7074a-cabd-440d-b138-a2c0d60accb5",
   "metadata": {},
   "source": [
    "# Multiple Linear Regression"
   ]
  },
  {
   "cell_type": "code",
   "execution_count": 77,
   "id": "31bc58e2-b06e-45ea-b872-7c6c4194f41c",
   "metadata": {},
   "outputs": [],
   "source": [
    "# Let's take all other features that includes Radio, Newspaper\n",
    "\n",
    "X_all = Advertise_df[['TV', 'Radio', 'Newspaper']]\n",
    "y_all = Advertise_df.Sales"
   ]
  },
  {
   "cell_type": "code",
   "execution_count": 82,
   "id": "6fd6387c-3206-4858-8ed6-cc1bbb175808",
   "metadata": {},
   "outputs": [],
   "source": [
    "from sklearn.model_selection import train_test_split\n",
    "\n",
    "X_train, X_test, y_train, y_test = train_test_split(X_all, y_all, test_size = 0.3, random_state=42)"
   ]
  },
  {
   "cell_type": "code",
   "execution_count": 83,
   "id": "bdbed00c-7bc8-497f-9c23-9fa8921afd12",
   "metadata": {},
   "outputs": [],
   "source": [
    "# Apply Linear Regression\n",
    "\n",
    "LR_1 =LinearRegression()"
   ]
  },
  {
   "cell_type": "code",
   "execution_count": 85,
   "id": "b8f1f40d-a467-4da6-b036-c4bc12cf3ce4",
   "metadata": {},
   "outputs": [
    {
     "data": {
      "text/plain": [
       "LinearRegression()"
      ]
     },
     "execution_count": 85,
     "metadata": {},
     "output_type": "execute_result"
    }
   ],
   "source": [
    "# Fit the data\n",
    "\n",
    "LR_1.fit(X_all, y_all)"
   ]
  },
  {
   "cell_type": "code",
   "execution_count": 86,
   "id": "645f1b6a-6175-49c4-bc58-5f5e0c6b6fe5",
   "metadata": {},
   "outputs": [
    {
     "name": "stdout",
     "output_type": "stream",
     "text": [
      "2.938889369459412\n",
      "[ 0.04576465  0.18853002 -0.00103749]\n"
     ]
    }
   ],
   "source": [
    "# Intercept and slope\n",
    "\n",
    "b_1 = LR_1.intercept_\n",
    "print(b_1)\n",
    "\n",
    "m_1 = LR_1.coef_\n",
    "print(m_1)"
   ]
  },
  {
   "cell_type": "code",
   "execution_count": 87,
   "id": "71dfedac-e84f-4c59-97b2-c5de20f7012b",
   "metadata": {},
   "outputs": [
    {
     "data": {
      "text/plain": [
       "LinearRegression()"
      ]
     },
     "execution_count": 87,
     "metadata": {},
     "output_type": "execute_result"
    }
   ],
   "source": [
    "# Fit train data set\n",
    "\n",
    "LR_1.fit(X_train, y_train)"
   ]
  },
  {
   "cell_type": "code",
   "execution_count": 88,
   "id": "652271a3-1862-4b88-8ce0-fdd9eb8a00ec",
   "metadata": {},
   "outputs": [
    {
     "name": "stdout",
     "output_type": "stream",
     "text": [
      "2.7089490925159065\n",
      "[0.04405928 0.1992875  0.00688245]\n"
     ]
    }
   ],
   "source": [
    "b_2 = LR_1.intercept_\n",
    "print(b_2)\n",
    "\n",
    "m_2 = LR_1.coef_\n",
    "print(m_2)"
   ]
  },
  {
   "cell_type": "code",
   "execution_count": 89,
   "id": "9d216c9c-887c-4ea2-b898-22b3321e0b70",
   "metadata": {},
   "outputs": [
    {
     "data": {
      "text/plain": [
       "array([16.5653963 , 21.18822792, 21.55107058, 10.88923816, 22.20231988,\n",
       "       13.35556872, 21.19692502,  7.35028523, 13.27547079, 15.12449511,\n",
       "        9.01443026,  6.52542825, 14.30205991,  8.97026042,  9.45679576,\n",
       "       12.00454351,  8.91549403, 16.15619251, 10.29582883, 18.72473553,\n",
       "       19.76821818, 13.77469028, 12.49638908, 21.53501762,  7.60860741,\n",
       "        5.6119801 , 20.91759483, 11.80627665,  9.08076637,  8.51412012,\n",
       "       12.17604891,  9.9691939 , 21.73008956, 12.77770578, 18.1011362 ,\n",
       "       20.07590796, 14.26202556, 20.93826535, 10.83938827,  4.38190607,\n",
       "        9.51332406, 12.40486324, 10.17045434,  8.09081363, 13.16388427,\n",
       "        5.2243552 ,  9.28893833, 14.09330719,  8.69024497, 11.66119763,\n",
       "       15.71848432, 11.63156862, 13.35360735, 11.1531472 ,  6.33636845,\n",
       "        9.76157954,  9.4195714 , 24.25516546,  7.69519137, 12.15317572])"
      ]
     },
     "execution_count": 89,
     "metadata": {},
     "output_type": "execute_result"
    }
   ],
   "source": [
    "# Predit the test data result\n",
    "\n",
    "Predictions_1 = LR_1.predict(X_test)\n",
    "Predictions_1"
   ]
  },
  {
   "cell_type": "code",
   "execution_count": 97,
   "id": "4f3ff21a-2acb-47bb-9483-feb3deb5d0ce",
   "metadata": {},
   "outputs": [
    {
     "name": "stdout",
     "output_type": "stream",
     "text": [
      "1.9485372043446387\n"
     ]
    }
   ],
   "source": [
    "# Print root mean square, to see how well the model fits\n",
    "from math import *\n",
    "\n",
    "MSE = (mean_squared_error(y_test, Predictions_1))\n",
    "print(sqrt(MSE))"
   ]
  },
  {
   "cell_type": "code",
   "execution_count": 99,
   "id": "5ba804f0-8272-416c-8e7d-14b6e4a28de7",
   "metadata": {},
   "outputs": [
    {
     "data": {
      "text/html": [
       "<table class=\"simpletable\">\n",
       "<caption>OLS Regression Results</caption>\n",
       "<tr>\n",
       "  <th>Dep. Variable:</th>          <td>Sales</td>      <th>  R-squared:         </th> <td>   0.897</td>\n",
       "</tr>\n",
       "<tr>\n",
       "  <th>Model:</th>                   <td>OLS</td>       <th>  Adj. R-squared:    </th> <td>   0.896</td>\n",
       "</tr>\n",
       "<tr>\n",
       "  <th>Method:</th>             <td>Least Squares</td>  <th>  F-statistic:       </th> <td>   570.3</td>\n",
       "</tr>\n",
       "<tr>\n",
       "  <th>Date:</th>             <td>Sun, 21 Nov 2021</td> <th>  Prob (F-statistic):</th> <td>1.58e-96</td>\n",
       "</tr>\n",
       "<tr>\n",
       "  <th>Time:</th>                 <td>03:15:44</td>     <th>  Log-Likelihood:    </th> <td> -386.18</td>\n",
       "</tr>\n",
       "<tr>\n",
       "  <th>No. Observations:</th>      <td>   200</td>      <th>  AIC:               </th> <td>   780.4</td>\n",
       "</tr>\n",
       "<tr>\n",
       "  <th>Df Residuals:</th>          <td>   196</td>      <th>  BIC:               </th> <td>   793.6</td>\n",
       "</tr>\n",
       "<tr>\n",
       "  <th>Df Model:</th>              <td>     3</td>      <th>                     </th>     <td> </td>   \n",
       "</tr>\n",
       "<tr>\n",
       "  <th>Covariance Type:</th>      <td>nonrobust</td>    <th>                     </th>     <td> </td>   \n",
       "</tr>\n",
       "</table>\n",
       "<table class=\"simpletable\">\n",
       "<tr>\n",
       "      <td></td>         <th>coef</th>     <th>std err</th>      <th>t</th>      <th>P>|t|</th>  <th>[0.025</th>    <th>0.975]</th>  \n",
       "</tr>\n",
       "<tr>\n",
       "  <th>Intercept</th> <td>    2.9389</td> <td>    0.312</td> <td>    9.422</td> <td> 0.000</td> <td>    2.324</td> <td>    3.554</td>\n",
       "</tr>\n",
       "<tr>\n",
       "  <th>TV</th>        <td>    0.0458</td> <td>    0.001</td> <td>   32.809</td> <td> 0.000</td> <td>    0.043</td> <td>    0.049</td>\n",
       "</tr>\n",
       "<tr>\n",
       "  <th>Radio</th>     <td>    0.1885</td> <td>    0.009</td> <td>   21.893</td> <td> 0.000</td> <td>    0.172</td> <td>    0.206</td>\n",
       "</tr>\n",
       "<tr>\n",
       "  <th>Newspaper</th> <td>   -0.0010</td> <td>    0.006</td> <td>   -0.177</td> <td> 0.860</td> <td>   -0.013</td> <td>    0.011</td>\n",
       "</tr>\n",
       "</table>\n",
       "<table class=\"simpletable\">\n",
       "<tr>\n",
       "  <th>Omnibus:</th>       <td>60.414</td> <th>  Durbin-Watson:     </th> <td>   2.084</td>\n",
       "</tr>\n",
       "<tr>\n",
       "  <th>Prob(Omnibus):</th> <td> 0.000</td> <th>  Jarque-Bera (JB):  </th> <td> 151.241</td>\n",
       "</tr>\n",
       "<tr>\n",
       "  <th>Skew:</th>          <td>-1.327</td> <th>  Prob(JB):          </th> <td>1.44e-33</td>\n",
       "</tr>\n",
       "<tr>\n",
       "  <th>Kurtosis:</th>      <td> 6.332</td> <th>  Cond. No.          </th> <td>    454.</td>\n",
       "</tr>\n",
       "</table><br/><br/>Notes:<br/>[1] Standard Errors assume that the covariance matrix of the errors is correctly specified."
      ],
      "text/plain": [
       "<class 'statsmodels.iolib.summary.Summary'>\n",
       "\"\"\"\n",
       "                            OLS Regression Results                            \n",
       "==============================================================================\n",
       "Dep. Variable:                  Sales   R-squared:                       0.897\n",
       "Model:                            OLS   Adj. R-squared:                  0.896\n",
       "Method:                 Least Squares   F-statistic:                     570.3\n",
       "Date:                Sun, 21 Nov 2021   Prob (F-statistic):           1.58e-96\n",
       "Time:                        03:15:44   Log-Likelihood:                -386.18\n",
       "No. Observations:                 200   AIC:                             780.4\n",
       "Df Residuals:                     196   BIC:                             793.6\n",
       "Df Model:                           3                                         \n",
       "Covariance Type:            nonrobust                                         \n",
       "==============================================================================\n",
       "                 coef    std err          t      P>|t|      [0.025      0.975]\n",
       "------------------------------------------------------------------------------\n",
       "Intercept      2.9389      0.312      9.422      0.000       2.324       3.554\n",
       "TV             0.0458      0.001     32.809      0.000       0.043       0.049\n",
       "Radio          0.1885      0.009     21.893      0.000       0.172       0.206\n",
       "Newspaper     -0.0010      0.006     -0.177      0.860      -0.013       0.011\n",
       "==============================================================================\n",
       "Omnibus:                       60.414   Durbin-Watson:                   2.084\n",
       "Prob(Omnibus):                  0.000   Jarque-Bera (JB):              151.241\n",
       "Skew:                          -1.327   Prob(JB):                     1.44e-33\n",
       "Kurtosis:                       6.332   Cond. No.                         454.\n",
       "==============================================================================\n",
       "\n",
       "Notes:\n",
       "[1] Standard Errors assume that the covariance matrix of the errors is correctly specified.\n",
       "\"\"\""
      ]
     },
     "execution_count": 99,
     "metadata": {},
     "output_type": "execute_result"
    }
   ],
   "source": [
    "LR_1 = smf.ols(formula = 'Sales ~ TV + Radio + Newspaper', data = Advertise_df).fit()\n",
    "LR_1.conf_int()\n",
    "LR_1.summary()"
   ]
  },
  {
   "cell_type": "markdown",
   "id": "e0acc784-29d7-4839-b9cd-382ed54e0968",
   "metadata": {},
   "source": [
    "1. TV and Radio has significant pvalue, whereas Newspaper doesn't. Thus we reject null hypothesis for TV and Radio.\n",
    "2. This model has higher R-Squared value. i.e., this model provides better fit to the data."
   ]
  },
  {
   "cell_type": "code",
   "execution_count": null,
   "id": "21707f5e-b569-42c1-9f92-3ef90b6c5fdf",
   "metadata": {},
   "outputs": [],
   "source": []
  }
 ],
 "metadata": {
  "kernelspec": {
   "display_name": "Python 3 (ipykernel)",
   "language": "python",
   "name": "python3"
  },
  "language_info": {
   "codemirror_mode": {
    "name": "ipython",
    "version": 3
   },
   "file_extension": ".py",
   "mimetype": "text/x-python",
   "name": "python",
   "nbconvert_exporter": "python",
   "pygments_lexer": "ipython3",
   "version": "3.9.7"
  }
 },
 "nbformat": 4,
 "nbformat_minor": 5
}
